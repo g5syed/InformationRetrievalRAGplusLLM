{
  "cells": [
    {
      "cell_type": "code",
      "execution_count": 1,
      "metadata": {
        "id": "1-aVUVj-UcXH"
      },
      "outputs": [],
      "source": [
        "import pdfplumber\n",
        "import re\n",
        "import openai\n",
        "\n",
        "# OpenAI API Key here\n",
        "api_key = 0 #github not letting me upload my code with API key\n",
        "#openai.api_key = api_key\n",
        "GPT_MODEL = \"gpt-4\""
      ]
    },
    {
      "cell_type": "code",
      "execution_count": 2,
      "metadata": {
        "id": "JZLEx66mUhsF"
      },
      "outputs": [],
      "source": [
        "keywords = [\n",
        "    \"high torque\", \"vibration\", \"high vibration\", \"excessive vibration\",\n",
        "    \"failure\", \"equipment failure\", \"system failure\", \"damage \",\n",
        "    \"bit damage\", \"tool damage\", \"slow penetration rate\", \"torque and drag\",\n",
        "    \"spike in torque\", \"stuck pipe\", \"high pressure\", \"low pressure\",\n",
        "    \"kick\", \"gas kick\", \"lost circulation\", \"borehole instability\",\n",
        "    \"mse\", \"drag\", \"high rpm\", \"low rpm\", \"temperature spike\",\n",
        "    \"mud loss\", \"bop issues\", \"chatter\", \"whirl\", \"stick-slip\",\n",
        "    \"washout\", \"twist off\", \"pump failure\", \"severe wear\"\n",
        "]\n",
        "\n",
        "def highlight_keywords(text, keywords):\n",
        "    for keyword in keywords:\n",
        "        text = re.sub(f\"(?i)({keyword})\", r'<mark>\\\\1</mark>', text)\n",
        "    return text\n",
        "\n",
        "def extract_sentences_with_keywords(text, keywords):\n",
        "    sentences_with_keywords = []\n",
        "    sentences = re.split(r'(?<=[.!?]) +', text)\n",
        "    for sentence in sentences:\n",
        "        for keyword in keywords:\n",
        "            if re.search(f\"(?i){keyword}\", sentence):\n",
        "                sentences_with_keywords.append(sentence)\n",
        "                break\n",
        "    return sentences_with_keywords\n"
      ]
    },
    {
      "cell_type": "code",
      "execution_count": 3,
      "metadata": {
        "id": "DiZef24TUkUM"
      },
      "outputs": [],
      "source": [
        "def gpt_summary(text, model=GPT_MODEL, max_tokens=150):\n",
        "    response = openai.ChatCompletion.create( # Use ChatCompletion for chat models\n",
        "        model=model,\n",
        "        messages=[{\"role\": \"user\", \"content\": f\"Summarize the following text: {text}\"}],\n",
        "        max_tokens=max_tokens,\n",
        "        n=1,\n",
        "        stop=None,\n",
        "        temperature=0.5\n",
        "    )\n",
        "    return response.choices[0].message.content.strip() # Extract content from message\n"
      ]
    },
    {
      "cell_type": "code",
      "execution_count": 4,
      "metadata": {
        "id": "SFrVueiSUly_"
      },
      "outputs": [],
      "source": [
        "def process_pdf(pdf_path):\n",
        "    with pdfplumber.open(pdf_path) as pdf:\n",
        "        first_page = pdf.pages[0]\n",
        "        text = first_page.extract_text()\n",
        "        highlighted_text = highlight_keywords(text, keywords)\n",
        "        sentences_with_keywords = extract_sentences_with_keywords(text, keywords)\n",
        "        summary = gpt_summary(text)\n",
        "        return highlighted_text, sentences_with_keywords, summary\n"
      ]
    },
    {
      "cell_type": "code",
      "execution_count": 6,
      "metadata": {
        "colab": {
          "base_uri": "https://localhost:8080/"
        },
        "id": "v8E8axh6UnEC",
        "outputId": "0ff8cc72-4a5a-4cdc-a72e-26fdf6c783e6"
      },
      "outputs": [
        {
          "name": "stdout",
          "output_type": "stream",
          "text": [
            "Highlighted Text: Daily Drilling Report Geothermal Resource Group, Inc.\n",
            "Well ID: Forge 78B-32 Well Name: 78B-32\n",
            "Field: UTAHFORGE Sect: 32 Town: 26 Rng: 9W County: Beaver State: UT\n",
            "Report No: 6 Report For 02-Jul-21\n",
            "Operator: University of Utah Rig: Frontier Rig 16 Spud Date: 28-Jun-21 Daily Cost / Mud ($): ---\n",
            "Measured Depth (ft): 3009 Last Casing: 11.750 at 2,990 Wellbore: Original Wellbore AFE No. AFE ($) Actual ($)\n",
            "Vertical Depth (ft): 3009 Next Casing: 7.000 at 8,500 RKB Elevation (ft): 30.40 --- --- ---\n",
            "Proposed TD (ft): 9500 Last BOP Test: 29-Jun-21 Job Reference RKB (ft): --- --- ---\n",
            "Hole Made (ft) / Hrs: 0 / 0.0 Next BOP Test: 19-Jul-21 Working Interest: Totals: --- ---\n",
            "Average ROP (ft/hr): Well Cost ($): ---\n",
            "Drilling Days (act./plan): 6/21 Flat Days (act./plan): 0/9 Total Days (act./plan): 6/30 Days On Location: 6\n",
            "Pers/Hrs: Operator: 3 / 36 Contractor: 14 / 168 Service: 4 / 48 Other: 7 / 84 Total: 28 / 336\n",
            "Safety Summary: No incidents or events reported. Conducted Crown Check, Safety Meeting.\n",
            "Current Operations: Installing 13 5/8\" 5M BOPE. (report time)\n",
            "Planned Operations: Nipple up 13 5/8\" 5M BOPE. Test BOPE.\n",
            "Run in the hole and lay down 5\" drill pipe.\n",
            "Pick up and rack back 5.5\" drill pipe.\n",
            "Toolpusher: Steve Caldwell , Justin Bristol\n",
            "Wellsite Supervisors: Virgil Welch , Brian Gresham Tel No.: 7132807438\n",
            "Operations Summary\n",
            "From To Elapsed End MD(ft) Code Operations Description Non-Prod\n",
            "0:00 0:30 0.50 3,009 3-97 Cleaned and cleared rig floor of 14 3/4\" handling tools.\n",
            "0:30 1:00 0.50 3,009 10-98 Hold detailed safety meeting with Wyoming Casing Service/Rig crew along with GRG\n",
            "representative.\n",
            "1:00 2:00 1.00 3,009 CASE Rig up 11 3/4\" casing running equipment.\n",
            "2:00 8:30 6.50 3,009 CASE Run 11 3/4\", 54 lbs/ft, J-55 BTC casing as follows:.\n",
            "Float Shoe, 2-joints, Float collar followed by 71-joints. Landed out with 31' landing\n",
            "joint to set depth of 2,989.99'\n",
            "Total casing ran 2,958.99'\n",
            "Shoe set 2,984.70 KB.\n",
            "Float Collar 2,903.97' KB.\n",
            "8:30 9:00 0.50 3,009 CASE Rig down casing crew\n",
            "9:00 9:30 0.50 3,009 SERV Service rig\n",
            "9:30 11:30 2.00 3,009 CMTP Install valve in wellhead, rig up pumps in cellar, 4 bolt BOP\n",
            "11:30 12:30 1.00 3,009 TRPI Trip in hole with stab-in\n",
            "12:30 13:30 1.00 3,009 CIRC Circulate bottoms upo\n",
            "13:30 14:30 1.00 3,009 CMTP Rig up cement crew and held JSA\n",
            "14:30 16:30 2.00 3,009 CMTP Pump 2 bbl water, pressure test lines to 3000 psi, pump 52 bbls fresh water, @\n",
            "6bpm, 20 bbl mud clean, @ 6 bpm, 10 bbl fresh water @ 6bpm-HT--HSLD atr 6 bpm,\n",
            ", mix and pump 315 bbl RC-Thermalite (cement to surface at 300 bbl, Displace with\n",
            "3 bbl water and 47 bbl drilling mud, check floats, CIP @ 16:00\n",
            "16:30 18:00 1.50 3,009 CMTP Un-sting and trip out of the hole with stab-in to surface.\n",
            "18:00 21:00 3.00 3,009 BOPO Nipple down 21-1/4\" BOPE and set out.\n",
            "21:00 23:45 2.75 3,009 WELLHD Installed temporary 11 3/4\" x 13 5/8 \" SOW flange. Test to 1,000 psi. Good test.\n",
            "23:45 0:00 0.25 3,009 2-14 Installed 13 5/8\" 5M BOPE stack.\n",
            "Management Summary\n",
            "Cleaned and cleared rig floor.\n",
            "Held safety meeting.\n",
            "Rigged up and ran 11 3/4\" casing with shoe depth of 2,899.99' KB.\n",
            "Rigged down casing crew.\n",
            "Ran in the hole with stab-in tool.\n",
            "Rigged up Resource cementing and cemented casing with 315 bbl RC-Thermalite cement. Had good cement to surface. CIP @ 16:00.\n",
            "Rigged down Resource cementing.\n",
            "Pulled out of the hole with stab-in tool.\n",
            "Nippled down 21-1/4\" BOPE.\n",
            "Installed temporary 11 3/4\" x 13 5/8 \" SOW flange. Test to 1,000 psi. Good test.\n",
            "Installed 13 5/8\" 5m BOPE stack.\n",
            "Comments\n",
            "CIP @ 1600 HRS.\n",
            "Good cement to surface.\n",
            "Printed: 06:05 03-Jul-21 RIMBase 7.5.582.0 Page: 1 of 2\n",
            "********************************************************************************\n",
            "Sentences with Keywords: []\n",
            "********************************************************************************\n",
            "Summary: The daily drilling report from Geothermal Resource Group, Inc. for the Forge 78B-32 well in Utah on July 2, 2021, details the operations conducted. The well has a measured and vertical depth of 3009 feet. The report highlights activities such as cleaning and clearing the rig floor, holding a safety meeting, rigging up and running casing, servicing the rig, installing valves, and cementing casing. The report also mentions the installation of a Blowout Preventer Equipment (BOPE) stack and a temporary flange, both of which were tested and confirmed to be in good condition. There were no safety incidents reported. The drilling has been ongoing for six days.\n"
          ]
        }
      ],
      "source": [
        "# Replace \"your_pdf_file.pdf\" with the path to a PDF you'd like to analyze\n",
        "pdf_path = \"02July2021.pdf\"\n",
        "highlighted_text, sentences_with_keywords, summary = process_pdf(pdf_path)\n",
        "\n",
        "print(\"Highlighted Text:\", highlighted_text)\n",
        "print(\"********************************************************************************\")\n",
        "print(\"Sentences with Keywords:\", sentences_with_keywords)\n",
        "print(\"********************************************************************************\")\n",
        "print(\"Summary:\", summary)\n"
      ]
    },
    {
      "cell_type": "code",
      "execution_count": null,
      "metadata": {},
      "outputs": [],
      "source": []
    }
  ],
  "metadata": {
    "colab": {
      "provenance": []
    },
    "kernelspec": {
      "display_name": "Python 3",
      "name": "python3"
    },
    "language_info": {
      "codemirror_mode": {
        "name": "ipython",
        "version": 3
      },
      "file_extension": ".py",
      "mimetype": "text/x-python",
      "name": "python",
      "nbconvert_exporter": "python",
      "pygments_lexer": "ipython3",
      "version": "3.11.9"
    }
  },
  "nbformat": 4,
  "nbformat_minor": 0
}
